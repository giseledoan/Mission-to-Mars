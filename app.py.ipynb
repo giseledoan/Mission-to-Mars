{
 "cells": [
  {
   "cell_type": "code",
   "execution_count": 11,
   "id": "eb94bbe7",
   "metadata": {},
   "outputs": [],
   "source": [
    "# use Flask to render a template, redirecting to another url, and creating a URL\n",
    "from flask import Flask, render_template, redirect, url_for\n",
    "\n",
    "#use PyMongo to interact with our Mongo database.\n",
    "from flask_pymongo import PyMongo\n",
    "\n",
    "#use the scraping code created to scrape the URL, image and table, saved in Mission-to-Mars folder\n",
    "import scraping"
   ]
  },
  {
   "cell_type": "code",
   "execution_count": 12,
   "id": "ffb4d2de",
   "metadata": {},
   "outputs": [],
   "source": [
    "#set up Flask\n",
    "app = Flask(__name__)"
   ]
  },
  {
   "cell_type": "code",
   "execution_count": 13,
   "id": "9ed7c87c",
   "metadata": {},
   "outputs": [],
   "source": [
    "# Use flask_pymongo to set up mongo connection\n",
    "#tells Python that our app will connect to Mongo using a URI\n",
    "app.config[\"MONGO_URI\"] = \"mongodb://localhost:27017/mars_app\" # This URI is saying that the app can reach Mongo thru our localhost server, using port 27017, database named \"mars_app\".\n",
    "mongo = PyMongo(app)"
   ]
  },
  {
   "cell_type": "code",
   "execution_count": 14,
   "id": "2c8b5701",
   "metadata": {},
   "outputs": [],
   "source": [
    "# define the route for the HTML page\n",
    "# tells Flask what to display when we're looking at the home page, index.htm\n",
    "@app.route(\"/\")\n",
    "def index():\n",
    "    # find the \"mars\" collection in our database\n",
    "    mars = mongo.db.mars.find_one()\n",
    "    \n",
    "    # tells Flask to return an HTML template using an index.html file\n",
    "    return render_template(\"index.html\", mars=mars) #mars=mars: tells Python to use the \"mars\" collection in MongoDB"
   ]
  },
  {
   "cell_type": "code",
   "execution_count": null,
   "id": "0e1f7406",
   "metadata": {},
   "outputs": [
    {
     "name": "stdout",
     "output_type": "stream",
     "text": [
      " * Serving Flask app \"__main__\" (lazy loading)\n",
      " * Environment: production\n",
      "   WARNING: This is a development server. Do not use it in a production deployment.\n",
      "   Use a production WSGI server instead.\n",
      " * Debug mode: off\n"
     ]
    },
    {
     "name": "stderr",
     "output_type": "stream",
     "text": [
      " * Running on http://127.0.0.1:5000/ (Press CTRL+C to quit)\n",
      "[2021-10-22 22:15:01,427] ERROR in app: Exception on / [GET]\n",
      "Traceback (most recent call last):\n",
      "  File \"C:\\ProgramData\\Anaconda3\\lib\\site-packages\\flask\\app.py\", line 2447, in wsgi_app\n",
      "    response = self.full_dispatch_request()\n",
      "  File \"C:\\ProgramData\\Anaconda3\\lib\\site-packages\\flask\\app.py\", line 1952, in full_dispatch_request\n",
      "    rv = self.handle_user_exception(e)\n",
      "  File \"C:\\ProgramData\\Anaconda3\\lib\\site-packages\\flask\\app.py\", line 1821, in handle_user_exception\n",
      "    reraise(exc_type, exc_value, tb)\n",
      "  File \"C:\\ProgramData\\Anaconda3\\lib\\site-packages\\flask\\_compat.py\", line 39, in reraise\n",
      "    raise value\n",
      "  File \"C:\\ProgramData\\Anaconda3\\lib\\site-packages\\flask\\app.py\", line 1950, in full_dispatch_request\n",
      "    rv = self.dispatch_request()\n",
      "  File \"C:\\ProgramData\\Anaconda3\\lib\\site-packages\\flask\\app.py\", line 1936, in dispatch_request\n",
      "    return self.view_functions[rule.endpoint](**req.view_args)\n",
      "  File \"<ipython-input-14-5f0df55b04d3>\", line 9, in index\n",
      "    return render_template(\"index.html\", mars=mars) #mars=mars: tells Python to use the \"mars\" collection in MongoDB\n",
      "  File \"C:\\ProgramData\\Anaconda3\\lib\\site-packages\\flask\\templating.py\", line 138, in render_template\n",
      "    ctx.app.jinja_env.get_or_select_template(template_name_or_list),\n",
      "  File \"C:\\ProgramData\\Anaconda3\\lib\\site-packages\\jinja2\\environment.py\", line 930, in get_or_select_template\n",
      "    return self.get_template(template_name_or_list, parent, globals)\n",
      "  File \"C:\\ProgramData\\Anaconda3\\lib\\site-packages\\jinja2\\environment.py\", line 883, in get_template\n",
      "    return self._load_template(name, self.make_globals(globals))\n",
      "  File \"C:\\ProgramData\\Anaconda3\\lib\\site-packages\\jinja2\\environment.py\", line 857, in _load_template\n",
      "    template = self.loader.load(self, name, globals)\n",
      "  File \"C:\\ProgramData\\Anaconda3\\lib\\site-packages\\jinja2\\loaders.py\", line 115, in load\n",
      "    source, filename, uptodate = self.get_source(environment, name)\n",
      "  File \"C:\\ProgramData\\Anaconda3\\lib\\site-packages\\flask\\templating.py\", line 60, in get_source\n",
      "    return self._get_source_fast(environment, template)\n",
      "  File \"C:\\ProgramData\\Anaconda3\\lib\\site-packages\\flask\\templating.py\", line 89, in _get_source_fast\n",
      "    raise TemplateNotFound(template)\n",
      "jinja2.exceptions.TemplateNotFound: index.html\n",
      "127.0.0.1 - - [22/Oct/2021 22:15:01] \"\u001b[35m\u001b[1mGET / HTTP/1.1\u001b[0m\" 500 -\n"
     ]
    }
   ],
   "source": [
    "# set up our scraping route. This route will be the \"button\" of the web application\n",
    "# defines the route that Flask will be using. “/scrape”, will run the function created just beneath it.\n",
    "@app.route(\"/scrape\")\n",
    "def scrape():\n",
    "   # assign a new variable that points to our Mongo database\n",
    "    mars = mongo.db.mars\n",
    "    \n",
    "    # reference the scrape_all function in the scraping.py file exported from Jupyter Notebook\n",
    "    mars_data = scraping.scrape_all()\n",
    "    \n",
    "    # {}  empty JSON object to insert data from mars_data, upsert=True: create a new doc if one doesn't already exist\n",
    "    mars.update({}, mars_data, upsert=True)\n",
    "    \n",
    "    # add a redirect after successfully scraping the data, navigate our page back to / where we can see the updated content\n",
    "    return redirect('/', code=302)\n",
    "\n",
    "#tell Flask to run\n",
    "if __name__ == \"__main__\":\n",
    "   app.run()"
   ]
  },
  {
   "cell_type": "code",
   "execution_count": null,
   "id": "fe5eb8e0",
   "metadata": {},
   "outputs": [],
   "source": []
  }
 ],
 "metadata": {
  "kernelspec": {
   "display_name": "Python 3",
   "language": "python",
   "name": "python3"
  },
  "language_info": {
   "codemirror_mode": {
    "name": "ipython",
    "version": 3
   },
   "file_extension": ".py",
   "mimetype": "text/x-python",
   "name": "python",
   "nbconvert_exporter": "python",
   "pygments_lexer": "ipython3",
   "version": "3.8.8"
  }
 },
 "nbformat": 4,
 "nbformat_minor": 5
}
